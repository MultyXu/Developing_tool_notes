{
 "cells": [
  {
   "cell_type": "code",
   "execution_count": 8,
   "id": "08c1c410",
   "metadata": {},
   "outputs": [
    {
     "name": "stderr",
     "output_type": "stream",
     "text": [
      "Traceback (most recent call last):\n",
      "  File \"<string>\", line 1, in <module>\n",
      "  File \"/Users/multyxu/miniconda3/envs/general/lib/python3.10/multiprocessing/spawn.py\", line 116, in spawn_main\n",
      "    exitcode = _main(fd, parent_sentinel)\n",
      "  File \"/Users/multyxu/miniconda3/envs/general/lib/python3.10/multiprocessing/spawn.py\", line 126, in _main\n",
      "    self = reduction.pickle.load(from_parent)\n",
      "AttributeError: Can't get attribute 'tqdm_worker' on <module '__main__' (built-in)>\n"
     ]
    }
   ],
   "source": [
    "from tqdm import tqdm\n",
    "import multiprocessing as mp\n",
    "import time\n",
    "\n",
    "def tqdm_worker(queue, num_bars=3):\n",
    "    \n",
    "    bar_status = tqdm(desc=\"Status\", position=0)\n",
    "    bars = []\n",
    "    for i in range(num_bars):\n",
    "        bar = tqdm(total=10, desc=f\"Progress Bar id: {i}\", position=i+1)\n",
    "        bars.append(bar)\n",
    "\n",
    "    while True:\n",
    "        if not queue.empty():\n",
    "            bar_status.set_postfix_str(\"updating...\")\n",
    "            item = queue.get()\n",
    "            id = int(item)\n",
    "            try:\n",
    "                bars[id].update(1)\n",
    "            except IndexError:\n",
    "                bar_status.set_postfix_str(\"IndexError\")\n",
    "        bar_status.set_postfix_str(\"queue empty...\")\n",
    "\n",
    "def update_bars(queue, id, deplay):\n",
    "    for i in range(10):\n",
    "        time.sleep(deplay)\n",
    "        queue.put(id)\n",
    "\n",
    "q = mp.Queue()\n",
    "\n",
    "main_p = mp.Process(target=tqdm_worker, args=(q,))\n",
    "bar_p0 = mp.Process(target=update_bars, args=(q, 0, 0.1))\n",
    "bar_p1 = mp.Process(target=update_bars, args=(q, 1, 0.2))\n",
    "bar_p2 = mp.Process(target=update_bars, args=(q, 2, 0.3))\n",
    "\n",
    "bar_process = [bar_p0, bar_p1, bar_p2]\n",
    "\n",
    "main_p.start()\n",
    "# for p in bar_process:\n",
    "#     p.start()\n",
    "    \n",
    "# for p in bar_process:\n",
    "#     p.join()\n",
    "\n",
    "time.sleep(5)\n",
    "    \n",
    "main_p.terminate()\n"
   ]
  },
  {
   "cell_type": "code",
   "execution_count": 27,
   "id": "4e7743ea",
   "metadata": {},
   "outputs": [
    {
     "data": {
      "text/plain": [
       "<matplotlib.image.AxesImage at 0x15815bca0>"
      ]
     },
     "execution_count": 27,
     "metadata": {},
     "output_type": "execute_result"
    },
    {
     "data": {
      "image/png": "[encoded data removed]",
      "text/plain": [
       "<Figure size 640x480 with 1 Axes>"
      ]
     },
     "metadata": {},
     "output_type": "display_data"
    }
   ],
   "source": [
    "import cv2\n",
    "import numpy as np\n",
    "import matplotlib.pyplot as plt\n",
    "\n",
    "save_img = np.ones((480 + 100, 640, 3), dtype=np.uint8) * 255\n",
    "# plt.text(0, 0, save_img_name, fontsize=12, color='white', bbox=dict(facecolor='black', alpha=0.5))\n",
    "save_img = cv2.putText(save_img, \"test.png\", (10, 30), cv2.FONT_HERSHEY_SIMPLEX, 0.5, (0, 0, 0), 2)\n",
    "cv2.imwrite(\"test.png\", save_img)\n",
    "# write a desciription on the image in the top 100 pixel \n",
    "\n",
    "\n",
    "plt.imshow(save_img)"
   ]
  },
  {
   "cell_type": "code",
   "execution_count": null,
   "id": "924a4a7d",
   "metadata": {},
   "outputs": [],
   "source": []
  }
 ],
 "metadata": {
  "kernelspec": {
   "display_name": "general",
   "language": "python",
   "name": "python3"
  },
  "language_info": {
   "codemirror_mode": {
    "name": "ipython",
    "version": 3
   },
   "file_extension": ".py",
   "mimetype": "text/x-python",
   "name": "python",
   "nbconvert_exporter": "python",
   "pygments_lexer": "ipython3",
   "version": "3.10.14"
  }
 },
 "nbformat": 4,
 "nbformat_minor": 5
}
